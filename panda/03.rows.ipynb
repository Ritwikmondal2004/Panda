{
 "cells": [
  {
   "cell_type": "markdown",
   "id": "88cf9e0d",
   "metadata": {},
   "source": [
    "## rows\n"
   ]
  },
  {
   "cell_type": "code",
   "execution_count": 1,
   "id": "524ee933",
   "metadata": {},
   "outputs": [],
   "source": [
    "import pandas as pd"
   ]
  },
  {
   "cell_type": "code",
   "execution_count": null,
   "id": "4aa82dc3",
   "metadata": {},
   "outputs": [
    {
     "name": "stdout",
     "output_type": "stream",
     "text": [
      "display 10 rows: \n",
      "   id                                         name  \\\n",
      "0   1                              Apple iPhone 12   \n",
      "1   2                           Samsung Galaxy S21   \n",
      "2   3                           Sony PlayStation 5   \n",
      "3   4            LG OLED55CXPUA 55-inch 4K OLED TV   \n",
      "4   5  Bose QuietComfort 35 II Wireless Headphones   \n",
      "\n",
      "                                         description    price     category  \\\n",
      "0  The Apple iPhone 12 features a 6.1-inch Super ...   999.00  Electronics   \n",
      "1  The Samsung Galaxy S21 features a 6.2-inch Dyn...   799.00  Electronics   \n",
      "2  The Sony PlayStation 5 features an AMD Zen 2-b...   499.99  Electronics   \n",
      "3  The LG OLED55CXPUA 55-inch 4K OLED TV features...  1599.99  Electronics   \n",
      "4  The Bose QuietComfort 35 II Wireless Headphone...   299.00  Electronics   \n",
      "\n",
      "                                               image  \n",
      "0  https://www.apple.com/newsroom/images/product/...  \n",
      "1  https://images.samsung.com/is/image/samsung/p6...  \n",
      "2  https://www.sony.com/image/44baa604124b770c824...  \n",
      "3  https://www.lg.com/us/images/tvs/md07501804/ga...  \n",
      "4  https://assets.bose.com/content/dam/Bose_DAM/W...  \n",
      "diplay 10 rows of last\n",
      "    id                                       name  \\\n",
      "15  16  Breville Barista Express Espresso Machine   \n",
      "16  17                Keurig K-Elite Coffee Maker   \n",
      "17  18             iRobot Roomba i7+ Robot Vacuum   \n",
      "18  19           Ninja Foodi Digital Air Fry Oven   \n",
      "19  20           Cuisinart ICE-70 Ice Cream Maker   \n",
      "\n",
      "                                          description   price        category  \\\n",
      "15  The Breville Barista Express Espresso Machine ...  699.95  Home & Kitchen   \n",
      "16  The Keurig K-Elite Coffee Maker features a str...  169.99  Home & Kitchen   \n",
      "17  The iRobot Roomba i7+ Robot Vacuum features au...  799.99  Home & Kitchen   \n",
      "18  The Ninja Foodi Digital Air Fry Oven features ...  209.99  Home & Kitchen   \n",
      "19  The Cuisinart ICE-70 Ice Cream Maker features ...  139.99  Home & Kitchen   \n",
      "\n",
      "                                                image  \n",
      "15  https://www.breville.com/content/dam/breville/...  \n",
      "16  https://www.keurig.com/content/dam/global-ecom...  \n",
      "17  https://store.irobot.com/default/i7-vacuuming-...  \n",
      "18  https://www.ninjakitchen.com/static/img/produc...  \n",
      "19  https://www.cuisinart.com/share/images/product...  \n"
     ]
    }
   ],
   "source": [
    "df=pd.read_json(\"sample_Data.json\")\n",
    "print(\"display 10 rows: \")\n",
    "print(df.head()) ## kono value na dile defalt 5 dhore\n",
    "\n",
    "print(\"diplay 10 rows of last\")\n",
    "print(df.tail())\n",
    "\n",
    "\n"
   ]
  }
 ],
 "metadata": {
  "kernelspec": {
   "display_name": "Python 3",
   "language": "python",
   "name": "python3"
  },
  "language_info": {
   "codemirror_mode": {
    "name": "ipython",
    "version": 3
   },
   "file_extension": ".py",
   "mimetype": "text/x-python",
   "name": "python",
   "nbconvert_exporter": "python",
   "pygments_lexer": "ipython3",
   "version": "3.12.1"
  }
 },
 "nbformat": 4,
 "nbformat_minor": 5
}
