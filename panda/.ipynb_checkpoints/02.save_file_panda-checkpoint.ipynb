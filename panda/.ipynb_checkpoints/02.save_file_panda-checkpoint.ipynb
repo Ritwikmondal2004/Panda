{
 "cells": [
  {
   "cell_type": "markdown",
   "id": "c4fd03c7",
   "metadata": {},
   "source": [
    "## save data"
   ]
  },
  {
   "cell_type": "code",
   "execution_count": 1,
   "id": "aa2a56eb",
   "metadata": {},
   "outputs": [],
   "source": [
    "import pandas as pd"
   ]
  },
  {
   "cell_type": "code",
   "execution_count": 4,
   "id": "64a46714",
   "metadata": {},
   "outputs": [
    {
     "name": "stdout",
     "output_type": "stream",
     "text": [
      "    Name  age    city\n",
      "0    Ram   10  Nagpur\n",
      "1  shyam   20   Mambi\n",
      "2   jadu   30   Delhi\n"
     ]
    }
   ],
   "source": [
    "data={\n",
    "    \"Name\": ['Ram', 'shyam', 'jadu'],\n",
    "    \"age\": [10, 20, 30],\n",
    "    \"city\": ['Nagpur','Mambi','Delhi']\n",
    "}\n",
    "\n",
    "df=pd.DataFrame(data)\n",
    "print(df)\n",
    "\n",
    "# df.to_csv(\"output.csv\", index=False) ## for hiding index"
   ]
  },
  {
   "cell_type": "code",
   "execution_count": 8,
   "id": "20b070f1-92f4-486b-8e4b-59f725d6876a",
   "metadata": {},
   "outputs": [
    {
     "ename": "NameError",
     "evalue": "name 'true' is not defined",
     "output_type": "error",
     "traceback": [
      "\u001b[31m---------------------------------------------------------------------------\u001b[39m",
      "\u001b[31mNameError\u001b[39m                                 Traceback (most recent call last)",
      "\u001b[36mCell\u001b[39m\u001b[36m \u001b[39m\u001b[32mIn[8]\u001b[39m\u001b[32m, line 1\u001b[39m\n\u001b[32m----> \u001b[39m\u001b[32m1\u001b[39m df.to_excel(\u001b[33m\"\u001b[39m\u001b[33moutput.excel\u001b[39m\u001b[33m\"\u001b[39m, index=\u001b[43mtrue\u001b[49m)\n",
      "\u001b[31mNameError\u001b[39m: name 'true' is not defined"
     ]
    }
   ],
   "source": [
    "df.to_excel(\"output.xlsx\", index=False)"
   ]
  },
  {
   "cell_type": "code",
   "execution_count": null,
   "id": "fc849f6a-6a23-41fa-92cf-768b5ed8bcc4",
   "metadata": {},
   "outputs": [],
   "source": []
  }
 ],
 "metadata": {
  "kernelspec": {
   "display_name": "Python 3 (ipykernel)",
   "language": "python",
   "name": "python3"
  },
  "language_info": {
   "codemirror_mode": {
    "name": "ipython",
    "version": 3
   },
   "file_extension": ".py",
   "mimetype": "text/x-python",
   "name": "python",
   "nbconvert_exporter": "python",
   "pygments_lexer": "ipython3",
   "version": "3.12.1"
  }
 },
 "nbformat": 4,
 "nbformat_minor": 5
}
