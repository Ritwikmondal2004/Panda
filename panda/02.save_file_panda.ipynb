{
 "cells": [
  {
   "cell_type": "markdown",
   "id": "c4fd03c7",
   "metadata": {},
   "source": [
    "## save data"
   ]
  },
  {
   "cell_type": "code",
   "execution_count": 1,
   "id": "aa2a56eb",
   "metadata": {},
   "outputs": [],
   "source": [
    "import pandas as pd"
   ]
  },
  {
   "cell_type": "code",
   "execution_count": null,
   "id": "64a46714",
   "metadata": {},
   "outputs": [
    {
     "name": "stdout",
     "output_type": "stream",
     "text": [
      "    Name  age    city\n",
      "0    Ram   10  Nagpur\n",
      "1  shyam   20   Mambi\n",
      "2   jadu   30   Delhi\n"
     ]
    }
   ],
   "source": [
    "data={\n",
    "    \"Name\": ['Ram', 'shyam', 'jadu'],\n",
    "    \"age\": [10, 20, 30],\n",
    "    \"city\": ['Nagpur','Mambi','Delhi']\n",
    "}\n",
    "\n",
    "df=pd.DataFrame(data)\n",
    "print(df)\n",
    "\n",
    "df.to_csv(\"output.csv\", index=False) ## for hiding index"
   ]
  }
 ],
 "metadata": {
  "kernelspec": {
   "display_name": "Python 3",
   "language": "python",
   "name": "python3"
  },
  "language_info": {
   "codemirror_mode": {
    "name": "ipython",
    "version": 3
   },
   "file_extension": ".py",
   "mimetype": "text/x-python",
   "name": "python",
   "nbconvert_exporter": "python",
   "pygments_lexer": "ipython3",
   "version": "3.12.1"
  }
 },
 "nbformat": 4,
 "nbformat_minor": 5
}
