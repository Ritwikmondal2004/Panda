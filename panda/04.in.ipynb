{
 "cells": [
  {
   "cell_type": "code",
   "execution_count": 8,
   "id": "cb1cc48f",
   "metadata": {},
   "outputs": [],
   "source": [
    "import pandas as pd\n",
    "\n",
    "# df=pd.read_json(\"sample_Data.json\")\n",
    "# print('Dispaly thr info of data set')\n",
    "\n",
    "# print(df.info(10))"
   ]
  },
  {
   "cell_type": "code",
   "execution_count": 9,
   "id": "169eb8b6",
   "metadata": {},
   "outputs": [
    {
     "name": "stdout",
     "output_type": "stream",
     "text": [
      "Dispaly thr info of data set\n",
      "<class 'pandas.core.frame.DataFrame'>\n",
      "RangeIndex: 3 entries, 0 to 2\n",
      "Data columns (total 3 columns):\n",
      " #   Column  Non-Null Count  Dtype \n",
      "---  ------  --------------  ----- \n",
      " 0   Name    3 non-null      object\n",
      " 1   age     3 non-null      int64 \n",
      " 2   city    3 non-null      object\n",
      "dtypes: int64(1), object(2)\n",
      "memory usage: 204.0+ bytes\n",
      "None\n"
     ]
    }
   ],
   "source": [
    "data={\n",
    "    \"Name\": ['Ram', 'shyam', 'jadu'],\n",
    "    \"age\": [10, 20, 30],\n",
    "    \"city\": ['Nagpur','Mambi','Delhi']\n",
    "}\n",
    "\n",
    "df=pd.DataFrame(data)\n",
    "print('Dispaly thr info of data set')\n",
    "\n",
    "print(df.info(10))"
   ]
  }
 ],
 "metadata": {
  "kernelspec": {
   "display_name": "Python 3",
   "language": "python",
   "name": "python3"
  },
  "language_info": {
   "codemirror_mode": {
    "name": "ipython",
    "version": 3
   },
   "file_extension": ".py",
   "mimetype": "text/x-python",
   "name": "python",
   "nbconvert_exporter": "python",
   "pygments_lexer": "ipython3",
   "version": "3.12.1"
  }
 },
 "nbformat": 4,
 "nbformat_minor": 5
}
