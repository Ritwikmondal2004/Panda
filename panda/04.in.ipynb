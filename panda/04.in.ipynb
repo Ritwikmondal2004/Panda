{
 "cells": [
  {
   "cell_type": "code",
   "execution_count": 10,
   "id": "cb1cc48f",
   "metadata": {},
   "outputs": [],
   "source": [
    "import pandas as pd\n",
    "\n",
    "# df=pd.read_json(\"sample_Data.json\")\n",
    "# print('Dispaly thr info of data set')\n",
    "\n",
    "# print(df.info(10))"
   ]
  },
  {
   "cell_type": "code",
   "execution_count": 11,
   "id": "169eb8b6",
   "metadata": {},
   "outputs": [
    {
     "name": "stdout",
     "output_type": "stream",
     "text": [
      "Dispaly thr info of data set\n",
      "<class 'pandas.core.frame.DataFrame'>\n",
      "RangeIndex: 3 entries, 0 to 2\n",
      "Data columns (total 3 columns):\n",
      " #   Column  Non-Null Count  Dtype \n",
      "---  ------  --------------  ----- \n",
      " 0   Name    3 non-null      object\n",
      " 1   age     3 non-null      int64 \n",
      " 2   city    3 non-null      object\n",
      "dtypes: int64(1), object(2)\n",
      "memory usage: 204.0+ bytes\n",
      "None\n"
     ]
    }
   ],
   "source": [
    "data={\n",
    "    \"Name\": ['Ram', 'shyam', 'jadu'],\n",
    "    \"age\": [10, 20, 30],\n",
    "    \"city\": ['Nagpur','Mambi','Delhi']\n",
    "}\n",
    "\n",
    "df=pd.DataFrame(data)\n",
    "print('Dispaly thr info of data set')\n",
    "\n",
    "print(df.info(10))"
   ]
  },
  {
   "cell_type": "markdown",
   "id": "c2313523",
   "metadata": {},
   "source": [
    "## Descrive method"
   ]
  },
  {
   "cell_type": "code",
   "execution_count": 12,
   "id": "1d02cfd3",
   "metadata": {},
   "outputs": [
    {
     "name": "stdout",
     "output_type": "stream",
     "text": [
      "same dataframe\n",
      "     Name  age   salary  parformance Score\n",
      "0     ram   10    50000                 86\n",
      "1     sam   20  6000000                 76\n",
      "2   choku   30  3000000                 46\n",
      "3    moku   40  7000000                 98\n",
      "4   chadu   50    48000                 56\n",
      "5     raj   60    67000                 47\n",
      "6  simran   70    40000                 68\n",
      "7  moinak   80    56899                 90\n",
      "             age        salary  parformance Score\n",
      "count   8.000000  8.000000e+00           8.000000\n",
      "mean   45.000000  2.032737e+06          70.875000\n",
      "std    24.494897  2.950980e+06          19.910066\n",
      "min    10.000000  4.000000e+04          46.000000\n",
      "25%    27.500000  4.950000e+04          53.750000\n",
      "50%    45.000000  6.194950e+04          72.000000\n",
      "75%    62.500000  3.750000e+06          87.000000\n",
      "max    80.000000  7.000000e+06          98.000000\n"
     ]
    }
   ],
   "source": [
    "data={\n",
    "    \"Name\":['ram','sam','choku','moku','chadu','raj','simran','moinak'],\n",
    "    \"age\":[10,20,30,40,50,60,70,80],\n",
    "    \"salary\":[50000,6000000,3000000,7000000,48000,67000,40000,56899],\n",
    "    \"parformance Score\":[86,76,46,98,56,47,68,90]\n",
    "\n",
    "}\n",
    "\n",
    "df=pd.DataFrame(data)\n",
    "print(\"same dataframe\")\n",
    "print(df)\n",
    "\n",
    "print(df.describe())"
   ]
  },
  {
   "cell_type": "markdown",
   "id": "f08128f2",
   "metadata": {},
   "source": [
    "## Shape and Columns"
   ]
  },
  {
   "cell_type": "code",
   "execution_count": 13,
   "id": "af9c7ba1",
   "metadata": {},
   "outputs": [
    {
     "name": "stdout",
     "output_type": "stream",
     "text": [
      "shape: (8, 4)\n",
      "column Names:Index(['Name', 'age', 'salary', 'parformance Score'], dtype='object')\n"
     ]
    }
   ],
   "source": [
    "print(f'shape: {df.shape}')\n",
    "print(f'column Names:{df.columns}')"
   ]
  },
  {
   "cell_type": "markdown",
   "id": "9bb59e23",
   "metadata": {},
   "source": [
    "## Select specific column\n",
    "## filter rows\n",
    "## combine multiple condition\n"
   ]
  },
  {
   "cell_type": "markdown",
   "id": "c14cb0e8",
   "metadata": {},
   "source": [
    "####### single coloum"
   ]
  },
  {
   "cell_type": "code",
   "execution_count": 14,
   "id": "a47de6a4",
   "metadata": {},
   "outputs": [
    {
     "name": "stdout",
     "output_type": "stream",
     "text": [
      "     Name  age   salary  parformance Score\n",
      "0     ram   10    50000                 86\n",
      "1     sam   20  6000000                 76\n",
      "2   choku   30  3000000                 46\n",
      "3    moku   40  7000000                 98\n",
      "4   chadu   50    48000                 56\n",
      "5     raj   60    67000                 47\n",
      "6  simran   70    40000                 68\n",
      "7  moinak   80    56899                 90\n",
      "Name (single column return series)\n",
      "0       ram\n",
      "1       sam\n",
      "2     choku\n",
      "3      moku\n",
      "4     chadu\n",
      "5       raj\n",
      "6    simran\n",
      "7    moinak\n",
      "Name: Name, dtype: object\n"
     ]
    }
   ],
   "source": [
    "df=pd.DataFrame(data)\n",
    "print(df)\n",
    "print(\"Name (single column return series)\")\n",
    "\n",
    "name=df['Name']\n",
    "print(name)"
   ]
  },
  {
   "cell_type": "markdown",
   "id": "551b0d84",
   "metadata": {},
   "source": [
    "## Multiple column"
   ]
  },
  {
   "cell_type": "code",
   "execution_count": 15,
   "id": "9d6b058c",
   "metadata": {},
   "outputs": [
    {
     "name": "stdout",
     "output_type": "stream",
     "text": [
      "subset with Name and Salary:\n",
      "     Name   salary  parformance Score\n",
      "0     ram    50000                 86\n",
      "1     sam  6000000                 76\n",
      "2   choku  3000000                 46\n",
      "3    moku  7000000                 98\n",
      "4   chadu    48000                 56\n",
      "5     raj    67000                 47\n",
      "6  simran    40000                 68\n",
      "7  moinak    56899                 90\n"
     ]
    }
   ],
   "source": [
    "subset=df[[\"Name\",\"salary\",\"parformance Score\"]]\n",
    "\n",
    "print (\"subset with Name and Salary:\")\n",
    "print(subset)"
   ]
  },
  {
   "cell_type": "markdown",
   "id": "8bede49d",
   "metadata": {},
   "source": [
    "## Rows filter "
   ]
  },
  {
   "cell_type": "code",
   "execution_count": 16,
   "id": "5c89f0f3",
   "metadata": {},
   "outputs": [
    {
     "name": "stdout",
     "output_type": "stream",
     "text": [
      "50000 salary high\n",
      "     Name  age   salary  parformance Score\n",
      "1     sam   20  6000000                 76\n",
      "2   choku   30  3000000                 46\n",
      "3    moku   40  7000000                 98\n",
      "5     raj   60    67000                 47\n",
      "7  moinak   80    56899                 90\n"
     ]
    }
   ],
   "source": [
    "high_salary=df[df['salary']>50000]\n",
    "print(\"50000 salary high\")\n",
    "print(high_salary)"
   ]
  },
  {
   "cell_type": "markdown",
   "id": "2e599627",
   "metadata": {},
   "source": [
    "## filtering rows salary >50k && age>30"
   ]
  },
  {
   "cell_type": "code",
   "execution_count": 17,
   "id": "379e6f57",
   "metadata": {},
   "outputs": [
    {
     "name": "stdout",
     "output_type": "stream",
     "text": [
      "50000 salary and age >30\n",
      "     Name  age   salary  parformance Score\n",
      "3    moku   40  7000000                 98\n",
      "5     raj   60    67000                 47\n",
      "7  moinak   80    56899                 90\n"
     ]
    }
   ],
   "source": [
    "filter=df[(df['salary']>50000) & (df['age']>30)]\n",
    "print(\"50000 salary and age >30\")\n",
    "print(filter)"
   ]
  },
  {
   "cell_type": "markdown",
   "id": "144ccdc1",
   "metadata": {},
   "source": [
    "## performence >90 or age >35"
   ]
  },
  {
   "cell_type": "code",
   "execution_count": 18,
   "id": "feb0510c",
   "metadata": {},
   "outputs": [
    {
     "name": "stdout",
     "output_type": "stream",
     "text": [
      "performence score >90 && age >35\n",
      "     Name  age   salary  parformance Score\n",
      "3    moku   40  7000000                 98\n",
      "4   chadu   50    48000                 56\n",
      "5     raj   60    67000                 47\n",
      "6  simran   70    40000                 68\n",
      "7  moinak   80    56899                 90\n"
     ]
    }
   ],
   "source": [
    "filter_or=df[(df['parformance Score']>90) | (df['age']>35)]\n",
    "print(\"performence score >90 && age >35\")\n",
    "print(filter_or)"
   ]
  }
 ],
 "metadata": {
  "kernelspec": {
   "display_name": "Python 3",
   "language": "python",
   "name": "python3"
  },
  "language_info": {
   "codemirror_mode": {
    "name": "ipython",
    "version": 3
   },
   "file_extension": ".py",
   "mimetype": "text/x-python",
   "name": "python",
   "nbconvert_exporter": "python",
   "pygments_lexer": "ipython3",
   "version": "3.12.1"
  }
 },
 "nbformat": 4,
 "nbformat_minor": 5
}
