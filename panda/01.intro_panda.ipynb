{
 "cells": [
  {
   "cell_type": "code",
   "execution_count": 1,
   "id": "581fdd39",
   "metadata": {},
   "outputs": [],
   "source": [
    "import pandas as pd"
   ]
  },
  {
   "cell_type": "markdown",
   "id": "e28c10aa",
   "metadata": {},
   "source": [
    "## read data from csv file into a dataframe"
   ]
  },
  {
   "cell_type": "code",
   "execution_count": 2,
   "id": "7ba22b9f",
   "metadata": {},
   "outputs": [],
   "source": [
    "# df =pd.read_csv(\"sales_data_sample.csv\",encoding=\"latin1\") ## you can use utf-8\n",
    "\n",
    "# print(df)"
   ]
  },
  {
   "cell_type": "markdown",
   "id": "204a171b",
   "metadata": {},
   "source": [
    "## read data in excel"
   ]
  },
  {
   "cell_type": "markdown",
   "id": "36306b70",
   "metadata": {},
   "source": [
    "## json file"
   ]
  },
  {
   "cell_type": "code",
   "execution_count": 3,
   "id": "1303ac15",
   "metadata": {},
   "outputs": [],
   "source": [
    "# df=pd.read_json(\"sample_Data.json\")\n",
    "\n",
    "# print(df)"
   ]
  }
 ],
 "metadata": {
  "kernelspec": {
   "display_name": "Python 3",
   "language": "python",
   "name": "python3"
  },
  "language_info": {
   "codemirror_mode": {
    "name": "ipython",
    "version": 3
   },
   "file_extension": ".py",
   "mimetype": "text/x-python",
   "name": "python",
   "nbconvert_exporter": "python",
   "pygments_lexer": "ipython3",
   "version": "3.12.1"
  }
 },
 "nbformat": 4,
 "nbformat_minor": 5
}
