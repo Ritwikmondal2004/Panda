{
 "cells": [
  {
   "cell_type": "code",
   "execution_count": 27,
   "id": "583848f5",
   "metadata": {},
   "outputs": [],
   "source": [
    "import pandas as pd"
   ]
  },
  {
   "cell_type": "markdown",
   "id": "22d33d1f",
   "metadata": {},
   "source": [
    "## salary 10 persent increse"
   ]
  },
  {
   "cell_type": "code",
   "execution_count": 28,
   "id": "9efd2c81",
   "metadata": {},
   "outputs": [
    {
     "name": "stdout",
     "output_type": "stream",
     "text": [
      "    Name  Age  salary  performance_Score\n",
      "0    Ram   28    5000                 85\n",
      "1    sam   34  700000                 90\n",
      "2   jadu   22    3000                 78\n",
      "3  modhu   30    5000                 92\n",
      "4  tumpa   29   20000                 88\n",
      "5   rani   40    8000                 95\n",
      "6  panda   25    4000                 80\n",
      "7   nonu   32   46000                 89\n",
      "    Name  Age  salary  performance_Score    Bonus\n",
      "0    Ram   28    5000                 85    500.0\n",
      "1    sam   34  700000                 90  70000.0\n",
      "2   jadu   22    3000                 78    300.0\n",
      "3  modhu   30    5000                 92    500.0\n",
      "4  tumpa   29   20000                 88   2000.0\n",
      "5   rani   40    8000                 95    800.0\n",
      "6  panda   25    4000                 80    400.0\n",
      "7   nonu   32   46000                 89   4600.0\n"
     ]
    }
   ],
   "source": [
    "data={\n",
    "    \"Name\":['Ram','sam','jadu','modhu','tumpa','rani','panda','nonu'],\n",
    "    \"Age\":[28,34,22,30,29,40,25,32],\n",
    "    \"salary\":[5000,700000,3000,5000,20000,8000,4000,46000],\n",
    "    \"performance_Score\":[85,90,78,92,88,95,80,89]\n",
    "}\n",
    "\n",
    "df=pd.DataFrame(data)\n",
    "print(df)\n",
    "df[\"Bonus\"]=df['salary']* 0.1\n",
    "print(df)"
   ]
  },
  {
   "cell_type": "markdown",
   "id": "90b6c33d",
   "metadata": {},
   "source": [
    "## insert method\n",
    "## df.insert(loc,\"Column_name\",some data)"
   ]
  },
  {
   "cell_type": "code",
   "execution_count": 29,
   "id": "5111d665",
   "metadata": {},
   "outputs": [
    {
     "name": "stdout",
     "output_type": "stream",
     "text": [
      "   employee ID   Name  Age  salary  performance_Score    Bonus\n",
      "0           10    Ram   28    5000                 85    500.0\n",
      "1           20    sam   34  700000                 90  70000.0\n",
      "2           30   jadu   22    3000                 78    300.0\n",
      "3           40  modhu   30    5000                 92    500.0\n",
      "4           50  tumpa   29   20000                 88   2000.0\n",
      "5           60   rani   40    8000                 95    800.0\n",
      "6           70  panda   25    4000                 80    400.0\n",
      "7           80   nonu   32   46000                 89   4600.0\n"
     ]
    }
   ],
   "source": [
    "df.insert(0,\"employee ID\",[10,20,30,40,50,60,70,80])\n",
    "print(df)"
   ]
  },
  {
   "cell_type": "markdown",
   "id": "3ebcd030",
   "metadata": {},
   "source": [
    "## Updating values"
   ]
  },
  {
   "cell_type": "code",
   "execution_count": 30,
   "id": "894b2139",
   "metadata": {},
   "outputs": [
    {
     "name": "stdout",
     "output_type": "stream",
     "text": [
      "   employee ID   Name  Age  salary  performance_Score    Bonus\n",
      "0           10    Ram   28    5500                 85    500.0\n",
      "1           20    sam   34  700000                 90  70000.0\n",
      "2           30   jadu   22    3000                 78    300.0\n",
      "3           40  modhu   30    5000                 92    500.0\n",
      "4           50  tumpa   29   20000                 88   2000.0\n",
      "5           60   rani   40    8000                 95    800.0\n",
      "6           70  panda   25    4000                 80    400.0\n",
      "7           80   nonu   32   46000                 89   4600.0\n"
     ]
    }
   ],
   "source": [
    "# .loc[]\n",
    "#df.loc[row_index,\"column Name\"]=new_value\n",
    "\n",
    "df.loc[0,'salary']=5500\n",
    "print(df)"
   ]
  },
  {
   "cell_type": "code",
   "execution_count": 31,
   "id": "4ef3e63f",
   "metadata": {},
   "outputs": [
    {
     "name": "stdout",
     "output_type": "stream",
     "text": [
      "   employee ID   Name  Age  salary  performance_Score    Bonus\n",
      "0           10    Ram   28    5500                 85    500.0\n",
      "1           20    sam   34  700000                 90  70000.0\n",
      "2           30   jadu   22    3000                 78    300.0\n",
      "3           40  modhu   30    5000                 92    500.0\n",
      "4           50  tumpa   29   20000                 88   2000.0\n",
      "5           60   rani   40    8000                 95    800.0\n",
      "6           70  panda   25    4000                 80    400.0\n",
      "7           80   nonu   32   46000                 89   4600.0\n"
     ]
    }
   ],
   "source": [
    "print(df)"
   ]
  },
  {
   "cell_type": "markdown",
   "id": "418f473e",
   "metadata": {},
   "source": [
    "# updating all salary"
   ]
  },
  {
   "cell_type": "code",
   "execution_count": 32,
   "id": "24c609b2",
   "metadata": {},
   "outputs": [
    {
     "name": "stdout",
     "output_type": "stream",
     "text": [
      "   employee ID   Name  Age    salary  performance_Score    Bonus\n",
      "0           10    Ram   28    5775.0                 85    500.0\n",
      "1           20    sam   34  735000.0                 90  70000.0\n",
      "2           30   jadu   22    3150.0                 78    300.0\n",
      "3           40  modhu   30    5250.0                 92    500.0\n",
      "4           50  tumpa   29   21000.0                 88   2000.0\n",
      "5           60   rani   40    8400.0                 95    800.0\n",
      "6           70  panda   25    4200.0                 80    400.0\n",
      "7           80   nonu   32   48300.0                 89   4600.0\n"
     ]
    }
   ],
   "source": [
    "df['salary']=df['salary']*1.05 ##5% increse\n",
    "print(df)\n"
   ]
  },
  {
   "cell_type": "markdown",
   "id": "faef3b76",
   "metadata": {},
   "source": [
    "## removing  column"
   ]
  },
  {
   "cell_type": "code",
   "execution_count": 33,
   "id": "1f83f53d",
   "metadata": {},
   "outputs": [
    {
     "name": "stdout",
     "output_type": "stream",
     "text": [
      "Modify data:------------------------------------\n",
      "   employee ID   Name  Age    salary    Bonus\n",
      "0           10    Ram   28    5775.0    500.0\n",
      "1           20    sam   34  735000.0  70000.0\n",
      "2           30   jadu   22    3150.0    300.0\n",
      "3           40  modhu   30    5250.0    500.0\n",
      "4           50  tumpa   29   21000.0   2000.0\n",
      "5           60   rani   40    8400.0    800.0\n",
      "6           70  panda   25    4200.0    400.0\n",
      "7           80   nonu   32   48300.0   4600.0\n"
     ]
    }
   ],
   "source": [
    "# df.drop(columns=[\"ColumnName\"],inplace = True)\n",
    "\n",
    "print(\"Modify data:------------------------------------\")\n",
    "df.drop(columns=[\"performance_Score\"],inplace=True)\n",
    "\n",
    "# df.drop(columns=[\"performance_Score\",\"Age\"],inplace=True) for multiple column\n",
    "\n",
    "print(df)"
   ]
  },
  {
   "cell_type": "markdown",
   "id": "46f0ac58",
   "metadata": {},
   "source": [
    "## missing data"
   ]
  },
  {
   "cell_type": "markdown",
   "id": "bd2b10e1",
   "metadata": {},
   "source": [
    "NaN(not a Number)\n",
    "None(for object data types)\n",
    "\n",
    "isnull()\n",
    "\n",
    "True==NaN is missing\n",
    "False==not missing\n",
    "\n"
   ]
  },
  {
   "cell_type": "code",
   "execution_count": 34,
   "id": "9690ddf9",
   "metadata": {},
   "outputs": [
    {
     "name": "stdout",
     "output_type": "stream",
     "text": [
      "    Name   Age  salary  performance_Score\n",
      "0    Ram  28.0    5000                 85\n",
      "1    sam   NaN  700000                 90\n",
      "2   jadu  22.0    3000                 78\n",
      "3  modhu  30.0    5000                 92\n",
      "4  tumpa   NaN   20000                 88\n",
      "5   rani  40.0    8000                 95\n",
      "6  panda   NaN    4000                 80\n",
      "7   None  32.0   46000                 89\n",
      "    Name    Age  salary  performance_Score\n",
      "0  False  False   False              False\n",
      "1  False   True   False              False\n",
      "2  False  False   False              False\n",
      "3  False  False   False              False\n",
      "4  False   True   False              False\n",
      "5  False  False   False              False\n",
      "6  False   True   False              False\n",
      "7   True  False   False              False\n",
      "Name                 1\n",
      "Age                  3\n",
      "salary               0\n",
      "performance_Score    0\n",
      "dtype: int64\n"
     ]
    }
   ],
   "source": [
    "data={\n",
    "    \"Name\":['Ram','sam','jadu','modhu','tumpa','rani','panda',None],\n",
    "    \"Age\":[28,None,22,30,None,40,None,32],\n",
    "    \"salary\":[5000,700000,3000,5000,20000,8000,4000,46000],\n",
    "    \"performance_Score\":[85,90,78,92,88,95,80,89]\n",
    "}\n",
    "\n",
    "df=pd.DataFrame(data)\n",
    "print(df)\n",
    "\n",
    "print(df.isnull())# where is true that is none\n",
    "print(df.isnull().sum())# dind missing value all column"
   ]
  },
  {
   "cell_type": "markdown",
   "id": "a3c70574",
   "metadata": {},
   "source": [
    "## Drop column and Row"
   ]
  },
  {
   "cell_type": "code",
   "execution_count": 35,
   "id": "e0b777ce",
   "metadata": {},
   "outputs": [
    {
     "name": "stdout",
     "output_type": "stream",
     "text": [
      "    Name   Age  salary  performance_Score\n",
      "0    Ram  28.0    5000                 85\n",
      "1    sam   NaN  700000                 90\n",
      "2   jadu  22.0    3000                 78\n",
      "3  modhu  30.0    5000                 92\n",
      "4  tumpa   NaN   20000                 88\n",
      "5   rani  40.0    8000                 95\n",
      "6  panda   NaN    4000                 80\n",
      "7   None  32.0   46000                 89\n",
      "    Name   Age  salary  performance_Score\n",
      "0    Ram  28.0    5000                 85\n",
      "2   jadu  22.0    3000                 78\n",
      "3  modhu  30.0    5000                 92\n",
      "5   rani  40.0    8000                 95\n"
     ]
    }
   ],
   "source": [
    "#dropna()\n",
    "\n",
    "data={\n",
    "    \"Name\":['Ram','sam','jadu','modhu','tumpa','rani','panda',None],\n",
    "    \"Age\":[28,None,22,30,None,40,None,32],\n",
    "    \"salary\":[5000,700000,3000,5000,20000,8000,4000,46000],\n",
    "    \"performance_Score\":[85,90,78,92,88,95,80,89]\n",
    "}\n",
    "\n",
    "df=pd.DataFrame(data)\n",
    "print(df)\n",
    "\n",
    "df.dropna(inplace=True) ##totall missing element delete\n",
    "print(df)\n"
   ]
  },
  {
   "cell_type": "markdown",
   "id": "252dcd8b",
   "metadata": {},
   "source": [
    "## missing element fullfill"
   ]
  },
  {
   "cell_type": "code",
   "execution_count": 36,
   "id": "b8022185",
   "metadata": {},
   "outputs": [
    {
     "name": "stdout",
     "output_type": "stream",
     "text": [
      "    Name   Age  salary  performance_Score\n",
      "0    Ram  28.0    5000                 85\n",
      "1    sam   NaN  700000                 90\n",
      "2   jadu  22.0    3000                 78\n",
      "3  modhu  30.0    5000                 92\n",
      "4  tumpa   NaN   20000                 88\n",
      "5   rani  40.0    8000                 95\n",
      "6  panda   NaN    4000                 80\n",
      "7   None  32.0   46000                 89\n",
      "result:--------------\n",
      "    Name   Age  salary  performance_Score\n",
      "0    Ram  28.0    5000                 85\n",
      "1    sam   NaN  700000                 90\n",
      "2   jadu  22.0    3000                 78\n",
      "3  modhu  30.0    5000                 92\n",
      "4  tumpa   NaN   20000                 88\n",
      "5   rani  40.0    8000                 95\n",
      "6  panda   NaN    4000                 80\n",
      "7   None  32.0   46000                 89\n",
      "result2:-------------\n",
      "    Name   Age  salary  performance_Score\n",
      "0    Ram  28.0    5000                 85\n",
      "1    sam  30.4  700000                 90\n",
      "2   jadu  22.0    3000                 78\n",
      "3  modhu  30.0    5000                 92\n",
      "4  tumpa  30.4   20000                 88\n",
      "5   rani  40.0    8000                 95\n",
      "6  panda  30.4    4000                 80\n",
      "7   None  32.0   46000                 89\n"
     ]
    },
    {
     "name": "stderr",
     "output_type": "stream",
     "text": [
      "/tmp/ipykernel_1760/353899878.py:17: FutureWarning: A value is trying to be set on a copy of a DataFrame or Series through chained assignment using an inplace method.\n",
      "The behavior will change in pandas 3.0. This inplace method will never work because the intermediate object on which we are setting values always behaves as a copy.\n",
      "\n",
      "For example, when doing 'df[col].method(value, inplace=True)', try using 'df.method({col: value}, inplace=True)' or df[col] = df[col].method(value) instead, to perform the operation inplace on the original object.\n",
      "\n",
      "\n",
      "  df['Age'].fillna(df['Age'].mean(),inplace=True)## average value in age\n"
     ]
    }
   ],
   "source": [
    "#fillna()\n",
    "# fillna(value,inplace=True)\n",
    "data={\n",
    "    \"Name\":['Ram','sam','jadu','modhu','tumpa','rani','panda',None],\n",
    "    \"Age\":[28,None,22,30,None,40,None,32],\n",
    "    \"salary\":[5000,700000,3000,5000,20000,8000,4000,46000],\n",
    "    \"performance_Score\":[85,90,78,92,88,95,80,89]\n",
    "}\n",
    "\n",
    "df=pd.DataFrame(data)\n",
    "print(df)\n",
    "print(\"result:--------------\")\n",
    "# df.fillna(0,inplace=True)\n",
    "print(df)\n",
    "\n",
    "print(\"result2:-------------\")\n",
    "df['Age'].fillna(df['Age'].mean(),inplace=True)## average value in age \n",
    "\n",
    "print(df)\n"
   ]
  },
  {
   "cell_type": "markdown",
   "id": "4133c242",
   "metadata": {},
   "source": [
    "## interpoation"
   ]
  },
  {
   "cell_type": "code",
   "execution_count": 37,
   "id": "4fec12f1",
   "metadata": {},
   "outputs": [
    {
     "name": "stdout",
     "output_type": "stream",
     "text": [
      "    Name  Age  salary  performance_Score\n",
      "0    Ram   28    5000                 85\n",
      "1    sam   55  700000                 90\n",
      "2   jadu   22    3000                 78\n",
      "3  modhu   30    5000                 92\n",
      "4  tumpa   34   20000                 88\n",
      "5   rani   40    8000                 95\n",
      "6  panda   24    4000                 80\n",
      "7   Nonu   32   46000                 89\n",
      "    Name  Age  salary  performance_Score\n",
      "0    Ram   28    5000                 85\n",
      "1    sam   55  700000                 90\n",
      "2   jadu   22    3000                 78\n",
      "3  modhu   30    5000                 92\n",
      "4  tumpa   34   20000                 88\n",
      "5   rani   40    8000                 95\n",
      "6  panda   24    4000                 80\n",
      "7   Nonu   32   46000                 89\n"
     ]
    },
    {
     "name": "stderr",
     "output_type": "stream",
     "text": [
      "/tmp/ipykernel_1760/1327025382.py:13: FutureWarning: DataFrame.interpolate with object dtype is deprecated and will raise in a future version. Call obj.infer_objects(copy=False) before interpolating instead.\n",
      "  df.interpolate(method=\"linear\",axis=0,inplace=True)\n"
     ]
    }
   ],
   "source": [
    "data={\n",
    "    \"Name\":['Ram','sam','jadu','modhu','tumpa','rani','panda','Nonu'],\n",
    "    \"Age\":[28,55,22,30,34,40,24,32],\n",
    "    \"salary\":[5000,700000,3000,5000,20000,8000,4000,46000],\n",
    "    \"performance_Score\":[85,90,78,92,88,95,80,89]\n",
    "}\n",
    "\n",
    "df=pd.DataFrame(data)\n",
    "print(df)\n",
    "\n",
    "#linear, polynomial,time\n",
    "\n",
    "df.interpolate(method=\"linear\",axis=0,inplace=True)\n",
    "\n",
    "print (df)"
   ]
  },
  {
   "cell_type": "code",
   "execution_count": 38,
   "id": "ec96f90b",
   "metadata": {},
   "outputs": [
    {
     "name": "stdout",
     "output_type": "stream",
     "text": [
      "Before interpolation\n",
      "   time  Value\n",
      "0     1   10.0\n",
      "1     2    NaN\n",
      "2     3   20.0\n",
      "3     4    NaN\n",
      "4     5   34.0\n",
      "after: \n",
      "   time  Value\n",
      "0     1   10.0\n",
      "1     2   15.0\n",
      "2     3   20.0\n",
      "3     4   27.0\n",
      "4     5   34.0\n"
     ]
    }
   ],
   "source": [
    "data={\n",
    "    \"time\":[1,2,3,4,5],\n",
    "    \"Value\":[10,None,20,None,34]\n",
    "}\n",
    "df=pd.DataFrame(data)\n",
    "print(\"Before interpolation\")\n",
    "print(df)\n",
    "print(\"after: \")\n",
    "df['Value']=df['Value'].interpolate(method=\"linear\") ## it means =(10+20)/2 and (10+34)\n",
    "print(df)"
   ]
  },
  {
   "cell_type": "code",
   "execution_count": 39,
   "id": "70d5ba68",
   "metadata": {},
   "outputs": [
    {
     "name": "stdout",
     "output_type": "stream",
     "text": [
      "Before interpolation\n",
      "   time  Value\n",
      "0     1   10.0\n",
      "1     2    NaN\n",
      "2     3   20.0\n",
      "3     4    NaN\n",
      "4     5   34.0\n",
      "after: \n",
      "   time  Value\n",
      "0     1   10.0\n",
      "1     2   14.5\n",
      "2     3   20.0\n",
      "3     4   26.5\n",
      "4     5   34.0\n"
     ]
    }
   ],
   "source": [
    "#polynomial\n",
    "data={\n",
    "    \"time\":[1,2,3,4,5],\n",
    "    \"Value\":[10,None,20,None,34]\n",
    "}\n",
    "df=pd.DataFrame(data)\n",
    "print(\"Before interpolation\")\n",
    "print(df)\n",
    "print(\"after: \")\n",
    "df['Value'] = df['Value'].interpolate(method='polynomial', order=2) ## y=ax^2+bx+c in this case x=2 and x=4 because value[1]=time[1] and value[3]=timr[3]\n",
    "print(df)"
   ]
  },
  {
   "cell_type": "code",
   "execution_count": 40,
   "id": "3b705e46",
   "metadata": {},
   "outputs": [
    {
     "name": "stdout",
     "output_type": "stream",
     "text": [
      "            Value\n",
      "time             \n",
      "1970-01-02   10.0\n",
      "1970-01-03   14.5\n",
      "1970-01-04   20.0\n",
      "1970-01-05   26.5\n",
      "1970-01-06   34.0\n"
     ]
    }
   ],
   "source": [
    "#time\n",
    "df['time'] = pd.to_datetime(df['time'], unit='D')  #(unit='D' means \"treat these numbers as days since 1970-01-01\")\n",
    "df.set_index('time', inplace=True)#Now time becomes the row label (index).\n",
    "df['Value'] = df['Value'].interpolate(method='time')#\n",
    "\n",
    "print(df)"
   ]
  },
  {
   "cell_type": "markdown",
   "id": "55fcaf2a",
   "metadata": {},
   "source": [
    "## Sorting && Agrigation "
   ]
  },
  {
   "cell_type": "code",
   "execution_count": 41,
   "id": "1fc99643",
   "metadata": {},
   "outputs": [
    {
     "name": "stdout",
     "output_type": "stream",
     "text": [
      "before--------\n",
      "   Name  Age  salary\n",
      "0   Ram   28    5000\n",
      "1   sam   55  700000\n",
      "2  jadu   22    3000\n",
      "After-------\n",
      "   Name  Age  salary\n",
      "2  jadu   22    3000\n",
      "0   Ram   28    5000\n",
      "1   sam   55  700000\n"
     ]
    }
   ],
   "source": [
    "#sorting data\n",
    "#sorting data 1 column sort_values()\n",
    "#def.sort_values(by=\"column Name\",True/False,inplace=True)\n",
    "data={\n",
    "    \"Name\":['Ram','sam','jadu'],\n",
    "    \"Age\":[28,55,22],\n",
    "    \"salary\":[5000,700000,3000],\n",
    "}\n",
    "print(\"before--------\")\n",
    "df=pd.DataFrame(data)\n",
    "print(df)\n",
    "print(\"After-------\")\n",
    "\n",
    "df.sort_values(by=\"Age\", ascending=False,inplace=True) # high->low\n",
    "df.sort_values(by=\"Age\", ascending=True,inplace=True) # low->high\n",
    "print(df)\n"
   ]
  },
  {
   "cell_type": "code",
   "execution_count": 42,
   "id": "87d908c5",
   "metadata": {},
   "outputs": [
    {
     "name": "stdout",
     "output_type": "stream",
     "text": [
      "before--------\n",
      "   Name  Age  salary\n",
      "0   Ram   28    5000\n",
      "1   sam   55    7000\n",
      "2  jadu   22    3000\n",
      "After-------\n",
      "   Name  Age  salary\n",
      "2  jadu   22    3000\n",
      "0   Ram   28    5000\n",
      "1   sam   55    7000\n"
     ]
    }
   ],
   "source": [
    "#df.sort_values(by=[\"Age\",\"salary\"], ascending=True,inplace=True)\n",
    "data={\n",
    "    \"Name\":['Ram','sam','jadu'],\n",
    "    \"Age\":[28,55,22],\n",
    "    \"salary\":[5000,7000,3000],\n",
    "}\n",
    "print(\"before--------\")\n",
    "df=pd.DataFrame(data)\n",
    "print(df)\n",
    "print(\"After-------\")\n",
    "\n",
    "df.sort_values(by=[\"Age\", \"salary\"], ascending=[True, False], inplace=True)\n",
    "print(df)\n"
   ]
  },
  {
   "cell_type": "markdown",
   "id": "b1b4d679",
   "metadata": {},
   "source": [
    "# avg salary"
   ]
  },
  {
   "cell_type": "code",
   "execution_count": 43,
   "id": "4a3d6ae2",
   "metadata": {},
   "outputs": [
    {
     "name": "stdout",
     "output_type": "stream",
     "text": [
      "5000.0\n"
     ]
    }
   ],
   "source": [
    "avg_salary=df['salary'].mean()\n",
    "print(avg_salary)\n",
    "\n"
   ]
  },
  {
   "cell_type": "markdown",
   "id": "23409d64",
   "metadata": {},
   "source": [
    "## grouping"
   ]
  },
  {
   "cell_type": "code",
   "execution_count": 44,
   "id": "55fb71fa",
   "metadata": {},
   "outputs": [
    {
     "name": "stdout",
     "output_type": "stream",
     "text": [
      "before--------\n",
      "   Name  Age  salary\n",
      "0   Ram   28    5000\n",
      "1   sam   55    7000\n",
      "2  jadu   22    3000\n",
      "After-------\n",
      "Age\n",
      "22    3000\n",
      "28    5000\n",
      "55    7000\n",
      "Name: salary, dtype: int64\n"
     ]
    }
   ],
   "source": [
    "data={\n",
    "    \"Name\":['Ram','sam','jadu'],\n",
    "    \"Age\":[28,55,22],\n",
    "    \"salary\":[5000,7000,3000],\n",
    "}\n",
    "print(\"before--------\")\n",
    "df=pd.DataFrame(data)\n",
    "print(df)\n",
    "print(\"After-------\")\n",
    "group = df.groupby(\"Age\")[\"salary\"].sum()\n",
    "print(group)"
   ]
  },
  {
   "cell_type": "code",
   "execution_count": 45,
   "id": "0527823f",
   "metadata": {},
   "outputs": [
    {
     "name": "stdout",
     "output_type": "stream",
     "text": [
      "      Name Sec  Age\n",
      "0   Tanmay   A   19\n",
      "1     Tanu   B   17\n",
      "2  kallyan   A   18\n",
      "3    Subho   C   19\n",
      "4    Bapan   B   18\n",
      "5     Deba   A   17\n",
      "Sec\n",
      "A    17\n",
      "B    17\n",
      "C    19\n",
      "Name: Age, dtype: int64\n"
     ]
    }
   ],
   "source": [
    "#grouping in pandas\n",
    "\n",
    "class_10_students = {\n",
    "    \"Name\":[\"Tanmay\",\"Tanu\",\"kallyan\",\"Subho\",\"Bapan\",\"Deba\"],\n",
    "    \"Sec\" :[\"A\",\"B\",\"A\",\"C\",\"B\",\"A\"],\n",
    "    \"Age\" :[19,17,18,19,18,17]\n",
    "}\n",
    "df_class_10_students = pd.DataFrame(class_10_students)\n",
    "print(df_class_10_students)\n",
    "\n",
    "#group based on sec and find the min age \n",
    "group_by_sec = df_class_10_students.groupby(\"Sec\") [\"Age\"].min()\n",
    "print(group_by_sec)\n",
    "#print(type(group_by_sec))\n",
    "#print(group_by_sec[\"A\"])\n",
    "\n",
    "\n",
    "#group by multiple column\n",
    "\n",
    "#pass as a list form groupby([\"col1\",\"col2\"]).aggregation().."
   ]
  },
  {
   "cell_type": "markdown",
   "id": "99980e52",
   "metadata": {},
   "source": [
    "## Multiple value control"
   ]
  },
  {
   "cell_type": "code",
   "execution_count": 46,
   "id": "a6deed02",
   "metadata": {},
   "outputs": [
    {
     "name": "stdout",
     "output_type": "stream",
     "text": [
      "before--------\n",
      "   Name  Age  salary\n",
      "0   Ram   28    5000\n",
      "1   sam   55    7000\n",
      "2  jadu   22    3000\n",
      "3  jadu   34    4000\n",
      "After-------\n",
      "Age  Name\n",
      "22   jadu    3000\n",
      "28   Ram     5000\n",
      "34   jadu    4000\n",
      "55   sam     7000\n",
      "Name: salary, dtype: int64\n"
     ]
    }
   ],
   "source": [
    "data={\n",
    "    \"Name\":['Ram','sam','jadu','jadu'],\n",
    "    \"Age\":[28,55,22,34],\n",
    "    \"salary\":[5000,7000,3000,4000],\n",
    "}\n",
    "print(\"before--------\")\n",
    "df=pd.DataFrame(data)\n",
    "print(df)\n",
    "print(\"After-------\")\n",
    "group = df.groupby([\"Age\",\"Name\"])[\"salary\"].sum()\n",
    "print(group)"
   ]
  },
  {
   "cell_type": "markdown",
   "id": "c5c1e5c6",
   "metadata": {},
   "source": [
    "## common.txt"
   ]
  },
  {
   "cell_type": "markdown",
   "id": "cda3f5f8",
   "metadata": {},
   "source": [
    "1->sum()\n",
    "\n",
    "2->mean()\n",
    "\n",
    "3->count()\n",
    "\n",
    "4->min()\n",
    "\n",
    "5->max()\n",
    "\n",
    "6->std()"
   ]
  },
  {
   "cell_type": "markdown",
   "id": "4ffec775",
   "metadata": {},
   "source": [
    "## Marging and Joining"
   ]
  },
  {
   "cell_type": "code",
   "execution_count": 47,
   "id": "e62fce60",
   "metadata": {},
   "outputs": [
    {
     "name": "stdout",
     "output_type": "stream",
     "text": [
      "inner join\n",
      "   customer_Id    Name  order_amount\n",
      "0            1  Ramesh           250\n",
      "1            2  Suresh           450\n"
     ]
    }
   ],
   "source": [
    "#pd.merge(df1,df2, on=\"column_name\",how=\"type of join\")\n",
    "\n",
    "## coustomer dataframe\n",
    "\n",
    "df_customer=pd.DataFrame({\n",
    "\n",
    "    'customer_Id':[1,2,3],\n",
    "    'Name':['Ramesh','Suresh','Kalpesh']\n",
    "\n",
    "})\n",
    "\n",
    "#order dataframe\n",
    "\n",
    "df_order=pd.DataFrame({\n",
    "    'customer_Id':[1,2,4],  # Changed 'customer_idz' to 'customer_Id' to match df_customer\n",
    "    'order_amount':[250,450,350]\n",
    "})\n",
    "\n",
    "##merge\n",
    "df_merged=pd.merge(df_customer,df_order, on=\"customer_Id\",how=\"inner\")\n",
    "\n",
    "print(\"inner join\")\n",
    "print(df_merged)"
   ]
  },
  {
   "cell_type": "markdown",
   "id": "018955e9",
   "metadata": {},
   "source": [
    "## outer join"
   ]
  },
  {
   "cell_type": "code",
   "execution_count": 48,
   "id": "7f9a9e77",
   "metadata": {},
   "outputs": [
    {
     "name": "stdout",
     "output_type": "stream",
     "text": [
      "outer join\n",
      "   customer_Id     Name  order_amount\n",
      "0            1   Ramesh         250.0\n",
      "1            2   Suresh         450.0\n",
      "2            3  Kalpesh           NaN\n",
      "3            4      NaN         350.0\n"
     ]
    }
   ],
   "source": [
    "#pd.merge(df1,df2, on=\"column_name\",how=\"type of join\")\n",
    "\n",
    "## coustomer dataframe\n",
    "\n",
    "df_customer=pd.DataFrame({\n",
    "\n",
    "    'customer_Id':[1,2,3],\n",
    "    'Name':['Ramesh','Suresh','Kalpesh']\n",
    "\n",
    "})\n",
    "\n",
    "#order dataframe\n",
    "\n",
    "df_order=pd.DataFrame({\n",
    "    'customer_Id':[1,2,4],  # Changed 'customer_idz' to 'customer_Id' to match df_customer\n",
    "    'order_amount':[250,450,350]\n",
    "})\n",
    "\n",
    "##merge\n",
    "df_merged=pd.merge(df_customer,df_order, on=\"customer_Id\",how=\"outer\")\n",
    "\n",
    "print(\"outer join\")\n",
    "print(df_merged)"
   ]
  },
  {
   "cell_type": "markdown",
   "id": "fed5019d",
   "metadata": {},
   "source": [
    "## left join"
   ]
  },
  {
   "cell_type": "code",
   "execution_count": 49,
   "id": "a40ef769",
   "metadata": {},
   "outputs": [
    {
     "name": "stdout",
     "output_type": "stream",
     "text": [
      "left join\n",
      "   customer_Id     Name  order_amount\n",
      "0            1   Ramesh         250.0\n",
      "1            2   Suresh         450.0\n",
      "2            3  Kalpesh           NaN\n"
     ]
    }
   ],
   "source": [
    "#pd.merge(df1,df2, on=\"column_name\",how=\"type of join\")\n",
    "\n",
    "## coustomer dataframe\n",
    "\n",
    "df_customer=pd.DataFrame({\n",
    "\n",
    "    'customer_Id':[1,2,3],\n",
    "    'Name':['Ramesh','Suresh','Kalpesh']\n",
    "\n",
    "})\n",
    "\n",
    "#order dataframe\n",
    "\n",
    "df_order=pd.DataFrame({\n",
    "    'customer_Id':[1,2,4],  # Changed 'customer_idz' to 'customer_Id' to match df_customer\n",
    "    'order_amount':[250,450,350]\n",
    "})\n",
    "\n",
    "##merge\n",
    "df_merged=pd.merge(df_customer,df_order, on=\"customer_Id\",how=\"left\")\n",
    "\n",
    "print(\"left join\")\n",
    "print(df_merged)"
   ]
  },
  {
   "cell_type": "markdown",
   "id": "1ab12565",
   "metadata": {},
   "source": [
    "## right join"
   ]
  },
  {
   "cell_type": "code",
   "execution_count": 50,
   "id": "90d2fc27",
   "metadata": {},
   "outputs": [
    {
     "name": "stdout",
     "output_type": "stream",
     "text": [
      "right join\n",
      "   customer_Id    Name  order_amount\n",
      "0            1  Ramesh           250\n",
      "1            2  Suresh           450\n",
      "2            4     NaN           350\n"
     ]
    }
   ],
   "source": [
    "#pd.merge(df1,df2, on=\"column_name\",how=\"type of join\")\n",
    "\n",
    "## coustomer dataframe\n",
    "\n",
    "df_customer=pd.DataFrame({\n",
    "\n",
    "    'customer_Id':[1,2,3],\n",
    "    'Name':['Ramesh','Suresh','Kalpesh']\n",
    "\n",
    "})\n",
    "\n",
    "#order dataframe\n",
    "\n",
    "df_order=pd.DataFrame({\n",
    "    'customer_Id':[1,2,4],  # Changed 'customer_idz' to 'customer_Id' to match df_customer\n",
    "    'order_amount':[250,450,350]\n",
    "})\n",
    "\n",
    "##merge\n",
    "df_merged=pd.merge(df_customer,df_order, on=\"customer_Id\",how=\"right\")\n",
    "\n",
    "print(\"right join\")\n",
    "print(df_merged)"
   ]
  },
  {
   "cell_type": "markdown",
   "id": "78e3586b",
   "metadata": {},
   "source": [
    "## concatination vertically"
   ]
  },
  {
   "cell_type": "code",
   "execution_count": 51,
   "id": "65facd09",
   "metadata": {},
   "outputs": [
    {
     "name": "stdout",
     "output_type": "stream",
     "text": [
      "   customer_id   Name\n",
      "0            1  Gopal\n",
      "1            2   Raju\n",
      "2            3  shyam\n",
      "3            4  jaadu\n"
     ]
    }
   ],
   "source": [
    "#resone1\n",
    "\n",
    "df_region1=pd.DataFrame({\n",
    "\n",
    "    'customer_id':[1,2],\n",
    "    'Name':['Gopal','Raju']\n",
    "\n",
    "})\n",
    "#reson2\n",
    "df_region2=pd.DataFrame({\n",
    "    'customer_id':[3,4],\n",
    "    'Name':['shyam','jaadu']\n",
    "\n",
    "})\n",
    "\n",
    "##concatination vertically\n",
    "df_concat=pd.concat([df_region1,df_region2],ignore_index=True)\n",
    "\n",
    "print(df_concat)"
   ]
  },
  {
   "cell_type": "markdown",
   "id": "65a93bb1",
   "metadata": {},
   "source": [
    "## concatination horigentaly"
   ]
  },
  {
   "cell_type": "code",
   "execution_count": 52,
   "id": "12a508be",
   "metadata": {},
   "outputs": [
    {
     "name": "stdout",
     "output_type": "stream",
     "text": [
      "   0      1  2      3\n",
      "0  1  Gopal  3  shyam\n",
      "1  2   Raju  4  jaadu\n"
     ]
    }
   ],
   "source": [
    "#resone1\n",
    "\n",
    "df_region1=pd.DataFrame({\n",
    "\n",
    "    'customer_id':[1,2],\n",
    "    'Name':['Gopal','Raju']\n",
    "\n",
    "})\n",
    "#reson2\n",
    "df_region2=pd.DataFrame({\n",
    "    'customer_id':[3,4],\n",
    "    'Name':['shyam','jaadu']\n",
    "\n",
    "})\n",
    "\n",
    "##concatination vertically\n",
    "df_concat=pd.concat([df_region1,df_region2],axis=1,ignore_index=True)\n",
    "\n",
    "print(df_concat)"
   ]
  }
 ],
 "metadata": {
  "kernelspec": {
   "display_name": "Python 3",
   "language": "python",
   "name": "python3"
  },
  "language_info": {
   "codemirror_mode": {
    "name": "ipython",
    "version": 3
   },
   "file_extension": ".py",
   "mimetype": "text/x-python",
   "name": "python",
   "nbconvert_exporter": "python",
   "pygments_lexer": "ipython3",
   "version": "3.12.1"
  }
 },
 "nbformat": 4,
 "nbformat_minor": 5
}
