{
 "cells": [
  {
   "cell_type": "code",
   "execution_count": 14,
   "id": "583848f5",
   "metadata": {},
   "outputs": [],
   "source": [
    "import pandas as pd"
   ]
  },
  {
   "cell_type": "markdown",
   "id": "22d33d1f",
   "metadata": {},
   "source": [
    "## salary 10 persent increse"
   ]
  },
  {
   "cell_type": "code",
   "execution_count": 15,
   "id": "9efd2c81",
   "metadata": {},
   "outputs": [
    {
     "name": "stdout",
     "output_type": "stream",
     "text": [
      "    Name  Age  salary  performance_Score\n",
      "0    Ram   28    5000                 85\n",
      "1    sam   34  700000                 90\n",
      "2   jadu   22    3000                 78\n",
      "3  modhu   30    5000                 92\n",
      "4  tumpa   29   20000                 88\n",
      "5   rani   40    8000                 95\n",
      "6  panda   25    4000                 80\n",
      "7   nonu   32   46000                 89\n",
      "    Name  Age  salary  performance_Score    Bonus\n",
      "0    Ram   28    5000                 85    500.0\n",
      "1    sam   34  700000                 90  70000.0\n",
      "2   jadu   22    3000                 78    300.0\n",
      "3  modhu   30    5000                 92    500.0\n",
      "4  tumpa   29   20000                 88   2000.0\n",
      "5   rani   40    8000                 95    800.0\n",
      "6  panda   25    4000                 80    400.0\n",
      "7   nonu   32   46000                 89   4600.0\n"
     ]
    }
   ],
   "source": [
    "data={\n",
    "    \"Name\":['Ram','sam','jadu','modhu','tumpa','rani','panda','nonu'],\n",
    "    \"Age\":[28,34,22,30,29,40,25,32],\n",
    "    \"salary\":[5000,700000,3000,5000,20000,8000,4000,46000],\n",
    "    \"performance_Score\":[85,90,78,92,88,95,80,89]\n",
    "}\n",
    "\n",
    "df=pd.DataFrame(data)\n",
    "print(df)\n",
    "df[\"Bonus\"]=df['salary']* 0.1\n",
    "print(df)"
   ]
  },
  {
   "cell_type": "markdown",
   "id": "90b6c33d",
   "metadata": {},
   "source": [
    "## insert method\n",
    "## df.insert(loc,\"Column_name\",some data)"
   ]
  },
  {
   "cell_type": "code",
   "execution_count": 16,
   "id": "5111d665",
   "metadata": {},
   "outputs": [
    {
     "name": "stdout",
     "output_type": "stream",
     "text": [
      "   employee ID   Name  Age  salary  performance_Score    Bonus\n",
      "0           10    Ram   28    5000                 85    500.0\n",
      "1           20    sam   34  700000                 90  70000.0\n",
      "2           30   jadu   22    3000                 78    300.0\n",
      "3           40  modhu   30    5000                 92    500.0\n",
      "4           50  tumpa   29   20000                 88   2000.0\n",
      "5           60   rani   40    8000                 95    800.0\n",
      "6           70  panda   25    4000                 80    400.0\n",
      "7           80   nonu   32   46000                 89   4600.0\n"
     ]
    }
   ],
   "source": [
    "df.insert(0,\"employee ID\",[10,20,30,40,50,60,70,80])\n",
    "print(df)"
   ]
  },
  {
   "cell_type": "markdown",
   "id": "3ebcd030",
   "metadata": {},
   "source": [
    "## Updating values"
   ]
  },
  {
   "cell_type": "code",
   "execution_count": null,
   "id": "894b2139",
   "metadata": {},
   "outputs": [
    {
     "name": "stdout",
     "output_type": "stream",
     "text": [
      "   employee ID   Name  Age  salary  performance_Score    Bonus\n",
      "0           10    Ram   28    5500                 85    500.0\n",
      "1           20    sam   34  700000                 90  70000.0\n",
      "2           30   jadu   22    3000                 78    300.0\n",
      "3           40  modhu   30    5000                 92    500.0\n",
      "4           50  tumpa   29   20000                 88   2000.0\n",
      "5           60   rani   40    8000                 95    800.0\n",
      "6           70  panda   25    4000                 80    400.0\n",
      "7           80   nonu   32   46000                 89   4600.0\n"
     ]
    }
   ],
   "source": [
    "# .loc[]\n",
    "#df.loc[row_index,\"column Name\"]=new_value\n",
    "\n",
    "df.loc[0,'salary']=5500\n",
    "print(df)"
   ]
  },
  {
   "cell_type": "code",
   "execution_count": 18,
   "id": "4ef3e63f",
   "metadata": {},
   "outputs": [
    {
     "name": "stdout",
     "output_type": "stream",
     "text": [
      "   employee ID   Name  Age  salary  performance_Score    Bonus\n",
      "0           10    Ram   28    5500                 85    500.0\n",
      "1           20    sam   34  700000                 90  70000.0\n",
      "2           30   jadu   22    3000                 78    300.0\n",
      "3           40  modhu   30    5000                 92    500.0\n",
      "4           50  tumpa   29   20000                 88   2000.0\n",
      "5           60   rani   40    8000                 95    800.0\n",
      "6           70  panda   25    4000                 80    400.0\n",
      "7           80   nonu   32   46000                 89   4600.0\n"
     ]
    }
   ],
   "source": [
    "print(df)"
   ]
  },
  {
   "cell_type": "markdown",
   "id": "418f473e",
   "metadata": {},
   "source": [
    "# updating all salary"
   ]
  },
  {
   "cell_type": "code",
   "execution_count": null,
   "id": "24c609b2",
   "metadata": {},
   "outputs": [
    {
     "name": "stdout",
     "output_type": "stream",
     "text": [
      "   employee ID   Name  Age    salary  performance_Score    Bonus\n",
      "0           10    Ram   28    5775.0                 85    500.0\n",
      "1           20    sam   34  735000.0                 90  70000.0\n",
      "2           30   jadu   22    3150.0                 78    300.0\n",
      "3           40  modhu   30    5250.0                 92    500.0\n",
      "4           50  tumpa   29   21000.0                 88   2000.0\n",
      "5           60   rani   40    8400.0                 95    800.0\n",
      "6           70  panda   25    4200.0                 80    400.0\n",
      "7           80   nonu   32   48300.0                 89   4600.0\n"
     ]
    }
   ],
   "source": [
    "df['salary']=df['salary']*1.05 ##5% increse\n",
    "print(df)\n"
   ]
  },
  {
   "cell_type": "markdown",
   "id": "faef3b76",
   "metadata": {},
   "source": [
    "## removing  column"
   ]
  },
  {
   "cell_type": "code",
   "execution_count": null,
   "id": "b4250c37",
   "metadata": {},
   "outputs": [],
   "source": []
  }
 ],
 "metadata": {
  "kernelspec": {
   "display_name": "Python 3",
   "language": "python",
   "name": "python3"
  },
  "language_info": {
   "codemirror_mode": {
    "name": "ipython",
    "version": 3
   },
   "file_extension": ".py",
   "mimetype": "text/x-python",
   "name": "python",
   "nbconvert_exporter": "python",
   "pygments_lexer": "ipython3",
   "version": "3.12.1"
  }
 },
 "nbformat": 4,
 "nbformat_minor": 5
}
