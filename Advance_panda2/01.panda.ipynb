{
 "cells": [
  {
   "cell_type": "code",
   "execution_count": 59,
   "id": "583848f5",
   "metadata": {},
   "outputs": [],
   "source": [
    "import pandas as pd"
   ]
  },
  {
   "cell_type": "markdown",
   "id": "22d33d1f",
   "metadata": {},
   "source": [
    "## salary 10 persent increse"
   ]
  },
  {
   "cell_type": "code",
   "execution_count": 60,
   "id": "9efd2c81",
   "metadata": {},
   "outputs": [
    {
     "name": "stdout",
     "output_type": "stream",
     "text": [
      "    Name  Age  salary  performance_Score\n",
      "0    Ram   28    5000                 85\n",
      "1    sam   34  700000                 90\n",
      "2   jadu   22    3000                 78\n",
      "3  modhu   30    5000                 92\n",
      "4  tumpa   29   20000                 88\n",
      "5   rani   40    8000                 95\n",
      "6  panda   25    4000                 80\n",
      "7   nonu   32   46000                 89\n",
      "    Name  Age  salary  performance_Score    Bonus\n",
      "0    Ram   28    5000                 85    500.0\n",
      "1    sam   34  700000                 90  70000.0\n",
      "2   jadu   22    3000                 78    300.0\n",
      "3  modhu   30    5000                 92    500.0\n",
      "4  tumpa   29   20000                 88   2000.0\n",
      "5   rani   40    8000                 95    800.0\n",
      "6  panda   25    4000                 80    400.0\n",
      "7   nonu   32   46000                 89   4600.0\n"
     ]
    }
   ],
   "source": [
    "data={\n",
    "    \"Name\":['Ram','sam','jadu','modhu','tumpa','rani','panda','nonu'],\n",
    "    \"Age\":[28,34,22,30,29,40,25,32],\n",
    "    \"salary\":[5000,700000,3000,5000,20000,8000,4000,46000],\n",
    "    \"performance_Score\":[85,90,78,92,88,95,80,89]\n",
    "}\n",
    "\n",
    "df=pd.DataFrame(data)\n",
    "print(df)\n",
    "df[\"Bonus\"]=df['salary']* 0.1\n",
    "print(df)"
   ]
  },
  {
   "cell_type": "markdown",
   "id": "90b6c33d",
   "metadata": {},
   "source": [
    "## insert method\n",
    "## df.insert(loc,\"Column_name\",some data)"
   ]
  },
  {
   "cell_type": "code",
   "execution_count": 61,
   "id": "5111d665",
   "metadata": {},
   "outputs": [
    {
     "name": "stdout",
     "output_type": "stream",
     "text": [
      "   employee ID   Name  Age  salary  performance_Score    Bonus\n",
      "0           10    Ram   28    5000                 85    500.0\n",
      "1           20    sam   34  700000                 90  70000.0\n",
      "2           30   jadu   22    3000                 78    300.0\n",
      "3           40  modhu   30    5000                 92    500.0\n",
      "4           50  tumpa   29   20000                 88   2000.0\n",
      "5           60   rani   40    8000                 95    800.0\n",
      "6           70  panda   25    4000                 80    400.0\n",
      "7           80   nonu   32   46000                 89   4600.0\n"
     ]
    }
   ],
   "source": [
    "df.insert(0,\"employee ID\",[10,20,30,40,50,60,70,80])\n",
    "print(df)"
   ]
  },
  {
   "cell_type": "markdown",
   "id": "3ebcd030",
   "metadata": {},
   "source": [
    "## Updating values"
   ]
  },
  {
   "cell_type": "code",
   "execution_count": 62,
   "id": "894b2139",
   "metadata": {},
   "outputs": [
    {
     "name": "stdout",
     "output_type": "stream",
     "text": [
      "   employee ID   Name  Age  salary  performance_Score    Bonus\n",
      "0           10    Ram   28    5500                 85    500.0\n",
      "1           20    sam   34  700000                 90  70000.0\n",
      "2           30   jadu   22    3000                 78    300.0\n",
      "3           40  modhu   30    5000                 92    500.0\n",
      "4           50  tumpa   29   20000                 88   2000.0\n",
      "5           60   rani   40    8000                 95    800.0\n",
      "6           70  panda   25    4000                 80    400.0\n",
      "7           80   nonu   32   46000                 89   4600.0\n"
     ]
    }
   ],
   "source": [
    "# .loc[]\n",
    "#df.loc[row_index,\"column Name\"]=new_value\n",
    "\n",
    "df.loc[0,'salary']=5500\n",
    "print(df)"
   ]
  },
  {
   "cell_type": "code",
   "execution_count": 63,
   "id": "4ef3e63f",
   "metadata": {},
   "outputs": [
    {
     "name": "stdout",
     "output_type": "stream",
     "text": [
      "   employee ID   Name  Age  salary  performance_Score    Bonus\n",
      "0           10    Ram   28    5500                 85    500.0\n",
      "1           20    sam   34  700000                 90  70000.0\n",
      "2           30   jadu   22    3000                 78    300.0\n",
      "3           40  modhu   30    5000                 92    500.0\n",
      "4           50  tumpa   29   20000                 88   2000.0\n",
      "5           60   rani   40    8000                 95    800.0\n",
      "6           70  panda   25    4000                 80    400.0\n",
      "7           80   nonu   32   46000                 89   4600.0\n"
     ]
    }
   ],
   "source": [
    "print(df)"
   ]
  },
  {
   "cell_type": "markdown",
   "id": "418f473e",
   "metadata": {},
   "source": [
    "# updating all salary"
   ]
  },
  {
   "cell_type": "code",
   "execution_count": 64,
   "id": "24c609b2",
   "metadata": {},
   "outputs": [
    {
     "name": "stdout",
     "output_type": "stream",
     "text": [
      "   employee ID   Name  Age    salary  performance_Score    Bonus\n",
      "0           10    Ram   28    5775.0                 85    500.0\n",
      "1           20    sam   34  735000.0                 90  70000.0\n",
      "2           30   jadu   22    3150.0                 78    300.0\n",
      "3           40  modhu   30    5250.0                 92    500.0\n",
      "4           50  tumpa   29   21000.0                 88   2000.0\n",
      "5           60   rani   40    8400.0                 95    800.0\n",
      "6           70  panda   25    4200.0                 80    400.0\n",
      "7           80   nonu   32   48300.0                 89   4600.0\n"
     ]
    }
   ],
   "source": [
    "df['salary']=df['salary']*1.05 ##5% increse\n",
    "print(df)\n"
   ]
  },
  {
   "cell_type": "markdown",
   "id": "faef3b76",
   "metadata": {},
   "source": [
    "## removing  column"
   ]
  },
  {
   "cell_type": "code",
   "execution_count": 65,
   "id": "1f83f53d",
   "metadata": {},
   "outputs": [
    {
     "name": "stdout",
     "output_type": "stream",
     "text": [
      "Modify data:------------------------------------\n",
      "   employee ID   Name  Age    salary    Bonus\n",
      "0           10    Ram   28    5775.0    500.0\n",
      "1           20    sam   34  735000.0  70000.0\n",
      "2           30   jadu   22    3150.0    300.0\n",
      "3           40  modhu   30    5250.0    500.0\n",
      "4           50  tumpa   29   21000.0   2000.0\n",
      "5           60   rani   40    8400.0    800.0\n",
      "6           70  panda   25    4200.0    400.0\n",
      "7           80   nonu   32   48300.0   4600.0\n"
     ]
    }
   ],
   "source": [
    "# df.drop(columns=[\"ColumnName\"],inplace = True)\n",
    "\n",
    "print(\"Modify data:------------------------------------\")\n",
    "df.drop(columns=[\"performance_Score\"],inplace=True)\n",
    "\n",
    "# df.drop(columns=[\"performance_Score\",\"Age\"],inplace=True) for multiple column\n",
    "\n",
    "print(df)"
   ]
  },
  {
   "cell_type": "markdown",
   "id": "46f0ac58",
   "metadata": {},
   "source": [
    "## missing data"
   ]
  },
  {
   "cell_type": "markdown",
   "id": "bd2b10e1",
   "metadata": {},
   "source": [
    "NaN(not a Number)\n",
    "None(for object data types)\n",
    "\n",
    "isnull()\n",
    "\n",
    "True==NaN is missing\n",
    "False==not missing\n",
    "\n"
   ]
  },
  {
   "cell_type": "code",
   "execution_count": 66,
   "id": "9690ddf9",
   "metadata": {},
   "outputs": [
    {
     "name": "stdout",
     "output_type": "stream",
     "text": [
      "    Name   Age  salary  performance_Score\n",
      "0    Ram  28.0    5000                 85\n",
      "1    sam   NaN  700000                 90\n",
      "2   jadu  22.0    3000                 78\n",
      "3  modhu  30.0    5000                 92\n",
      "4  tumpa   NaN   20000                 88\n",
      "5   rani  40.0    8000                 95\n",
      "6  panda   NaN    4000                 80\n",
      "7   None  32.0   46000                 89\n",
      "    Name    Age  salary  performance_Score\n",
      "0  False  False   False              False\n",
      "1  False   True   False              False\n",
      "2  False  False   False              False\n",
      "3  False  False   False              False\n",
      "4  False   True   False              False\n",
      "5  False  False   False              False\n",
      "6  False   True   False              False\n",
      "7   True  False   False              False\n",
      "Name                 1\n",
      "Age                  3\n",
      "salary               0\n",
      "performance_Score    0\n",
      "dtype: int64\n"
     ]
    }
   ],
   "source": [
    "data={\n",
    "    \"Name\":['Ram','sam','jadu','modhu','tumpa','rani','panda',None],\n",
    "    \"Age\":[28,None,22,30,None,40,None,32],\n",
    "    \"salary\":[5000,700000,3000,5000,20000,8000,4000,46000],\n",
    "    \"performance_Score\":[85,90,78,92,88,95,80,89]\n",
    "}\n",
    "\n",
    "df=pd.DataFrame(data)\n",
    "print(df)\n",
    "\n",
    "print(df.isnull())# where is true that is none\n",
    "print(df.isnull().sum())# dind missing value all column"
   ]
  },
  {
   "cell_type": "markdown",
   "id": "a3c70574",
   "metadata": {},
   "source": [
    "## Drop column and Row"
   ]
  },
  {
   "cell_type": "code",
   "execution_count": 67,
   "id": "e0b777ce",
   "metadata": {},
   "outputs": [
    {
     "name": "stdout",
     "output_type": "stream",
     "text": [
      "    Name   Age  salary  performance_Score\n",
      "0    Ram  28.0    5000                 85\n",
      "1    sam   NaN  700000                 90\n",
      "2   jadu  22.0    3000                 78\n",
      "3  modhu  30.0    5000                 92\n",
      "4  tumpa   NaN   20000                 88\n",
      "5   rani  40.0    8000                 95\n",
      "6  panda   NaN    4000                 80\n",
      "7   None  32.0   46000                 89\n",
      "    Name   Age  salary  performance_Score\n",
      "0    Ram  28.0    5000                 85\n",
      "2   jadu  22.0    3000                 78\n",
      "3  modhu  30.0    5000                 92\n",
      "5   rani  40.0    8000                 95\n"
     ]
    }
   ],
   "source": [
    "#dropna()\n",
    "\n",
    "data={\n",
    "    \"Name\":['Ram','sam','jadu','modhu','tumpa','rani','panda',None],\n",
    "    \"Age\":[28,None,22,30,None,40,None,32],\n",
    "    \"salary\":[5000,700000,3000,5000,20000,8000,4000,46000],\n",
    "    \"performance_Score\":[85,90,78,92,88,95,80,89]\n",
    "}\n",
    "\n",
    "df=pd.DataFrame(data)\n",
    "print(df)\n",
    "\n",
    "df.dropna(inplace=True) ##totall missing element delete\n",
    "print(df)\n"
   ]
  },
  {
   "cell_type": "markdown",
   "id": "252dcd8b",
   "metadata": {},
   "source": [
    "## missing element fullfill"
   ]
  },
  {
   "cell_type": "code",
   "execution_count": 68,
   "id": "b8022185",
   "metadata": {},
   "outputs": [
    {
     "name": "stdout",
     "output_type": "stream",
     "text": [
      "    Name   Age  salary  performance_Score\n",
      "0    Ram  28.0    5000                 85\n",
      "1    sam   NaN  700000                 90\n",
      "2   jadu  22.0    3000                 78\n",
      "3  modhu  30.0    5000                 92\n",
      "4  tumpa   NaN   20000                 88\n",
      "5   rani  40.0    8000                 95\n",
      "6  panda   NaN    4000                 80\n",
      "7   None  32.0   46000                 89\n",
      "result:--------------\n",
      "    Name   Age  salary  performance_Score\n",
      "0    Ram  28.0    5000                 85\n",
      "1    sam   NaN  700000                 90\n",
      "2   jadu  22.0    3000                 78\n",
      "3  modhu  30.0    5000                 92\n",
      "4  tumpa   NaN   20000                 88\n",
      "5   rani  40.0    8000                 95\n",
      "6  panda   NaN    4000                 80\n",
      "7   None  32.0   46000                 89\n",
      "result2:-------------\n",
      "    Name   Age  salary  performance_Score\n",
      "0    Ram  28.0    5000                 85\n",
      "1    sam  30.4  700000                 90\n",
      "2   jadu  22.0    3000                 78\n",
      "3  modhu  30.0    5000                 92\n",
      "4  tumpa  30.4   20000                 88\n",
      "5   rani  40.0    8000                 95\n",
      "6  panda  30.4    4000                 80\n",
      "7   None  32.0   46000                 89\n"
     ]
    },
    {
     "name": "stderr",
     "output_type": "stream",
     "text": [
      "/tmp/ipykernel_28185/353899878.py:17: FutureWarning: A value is trying to be set on a copy of a DataFrame or Series through chained assignment using an inplace method.\n",
      "The behavior will change in pandas 3.0. This inplace method will never work because the intermediate object on which we are setting values always behaves as a copy.\n",
      "\n",
      "For example, when doing 'df[col].method(value, inplace=True)', try using 'df.method({col: value}, inplace=True)' or df[col] = df[col].method(value) instead, to perform the operation inplace on the original object.\n",
      "\n",
      "\n",
      "  df['Age'].fillna(df['Age'].mean(),inplace=True)## average value in age\n"
     ]
    }
   ],
   "source": [
    "#fillna()\n",
    "# fillna(value,inplace=True)\n",
    "data={\n",
    "    \"Name\":['Ram','sam','jadu','modhu','tumpa','rani','panda',None],\n",
    "    \"Age\":[28,None,22,30,None,40,None,32],\n",
    "    \"salary\":[5000,700000,3000,5000,20000,8000,4000,46000],\n",
    "    \"performance_Score\":[85,90,78,92,88,95,80,89]\n",
    "}\n",
    "\n",
    "df=pd.DataFrame(data)\n",
    "print(df)\n",
    "print(\"result:--------------\")\n",
    "# df.fillna(0,inplace=True)\n",
    "print(df)\n",
    "\n",
    "print(\"result2:-------------\")\n",
    "df['Age'].fillna(df['Age'].mean(),inplace=True)## average value in age \n",
    "\n",
    "print(df)\n"
   ]
  },
  {
   "cell_type": "markdown",
   "id": "4133c242",
   "metadata": {},
   "source": [
    "## interpoation"
   ]
  },
  {
   "cell_type": "code",
   "execution_count": 69,
   "id": "4fec12f1",
   "metadata": {},
   "outputs": [
    {
     "name": "stdout",
     "output_type": "stream",
     "text": [
      "    Name  Age  salary  performance_Score\n",
      "0    Ram   28    5000                 85\n",
      "1    sam   55  700000                 90\n",
      "2   jadu   22    3000                 78\n",
      "3  modhu   30    5000                 92\n",
      "4  tumpa   34   20000                 88\n",
      "5   rani   40    8000                 95\n",
      "6  panda   24    4000                 80\n",
      "7   Nonu   32   46000                 89\n",
      "    Name  Age  salary  performance_Score\n",
      "0    Ram   28    5000                 85\n",
      "1    sam   55  700000                 90\n",
      "2   jadu   22    3000                 78\n",
      "3  modhu   30    5000                 92\n",
      "4  tumpa   34   20000                 88\n",
      "5   rani   40    8000                 95\n",
      "6  panda   24    4000                 80\n",
      "7   Nonu   32   46000                 89\n"
     ]
    },
    {
     "name": "stderr",
     "output_type": "stream",
     "text": [
      "/tmp/ipykernel_28185/1327025382.py:13: FutureWarning: DataFrame.interpolate with object dtype is deprecated and will raise in a future version. Call obj.infer_objects(copy=False) before interpolating instead.\n",
      "  df.interpolate(method=\"linear\",axis=0,inplace=True)\n"
     ]
    }
   ],
   "source": [
    "data={\n",
    "    \"Name\":['Ram','sam','jadu','modhu','tumpa','rani','panda','Nonu'],\n",
    "    \"Age\":[28,55,22,30,34,40,24,32],\n",
    "    \"salary\":[5000,700000,3000,5000,20000,8000,4000,46000],\n",
    "    \"performance_Score\":[85,90,78,92,88,95,80,89]\n",
    "}\n",
    "\n",
    "df=pd.DataFrame(data)\n",
    "print(df)\n",
    "\n",
    "#linear, polynomial,time\n",
    "\n",
    "df.interpolate(method=\"linear\",axis=0,inplace=True)\n",
    "\n",
    "print (df)"
   ]
  },
  {
   "cell_type": "code",
   "execution_count": 70,
   "id": "ec96f90b",
   "metadata": {},
   "outputs": [
    {
     "name": "stdout",
     "output_type": "stream",
     "text": [
      "Before interpolation\n",
      "   time  Value\n",
      "0     1   10.0\n",
      "1     2    NaN\n",
      "2     3   20.0\n",
      "3     4    NaN\n",
      "4     5   34.0\n",
      "after: \n",
      "   time  Value\n",
      "0     1   10.0\n",
      "1     2   15.0\n",
      "2     3   20.0\n",
      "3     4   27.0\n",
      "4     5   34.0\n"
     ]
    }
   ],
   "source": [
    "data={\n",
    "    \"time\":[1,2,3,4,5],\n",
    "    \"Value\":[10,None,20,None,34]\n",
    "}\n",
    "df=pd.DataFrame(data)\n",
    "print(\"Before interpolation\")\n",
    "print(df)\n",
    "print(\"after: \")\n",
    "df['Value']=df['Value'].interpolate(method=\"linear\") ## it means =(10+20)/2 and (10+34)\n",
    "print(df)"
   ]
  },
  {
   "cell_type": "code",
   "execution_count": 71,
   "id": "70d5ba68",
   "metadata": {},
   "outputs": [
    {
     "name": "stdout",
     "output_type": "stream",
     "text": [
      "Before interpolation\n",
      "   time  Value\n",
      "0     1   10.0\n",
      "1     2    NaN\n",
      "2     3   20.0\n",
      "3     4    NaN\n",
      "4     5   34.0\n",
      "after: \n",
      "   time  Value\n",
      "0     1   10.0\n",
      "1     2   14.5\n",
      "2     3   20.0\n",
      "3     4   26.5\n",
      "4     5   34.0\n"
     ]
    }
   ],
   "source": [
    "#polynomial\n",
    "data={\n",
    "    \"time\":[1,2,3,4,5],\n",
    "    \"Value\":[10,None,20,None,34]\n",
    "}\n",
    "df=pd.DataFrame(data)\n",
    "print(\"Before interpolation\")\n",
    "print(df)\n",
    "print(\"after: \")\n",
    "df['Value'] = df['Value'].interpolate(method='polynomial', order=2) ## y=ax^2+bx+c in this case x=2 and x=4 because value[1]=time[1] and value[3]=timr[3]\n",
    "print(df)"
   ]
  },
  {
   "cell_type": "code",
   "execution_count": 72,
   "id": "3b705e46",
   "metadata": {},
   "outputs": [
    {
     "name": "stdout",
     "output_type": "stream",
     "text": [
      "            Value\n",
      "time             \n",
      "1970-01-02   10.0\n",
      "1970-01-03   14.5\n",
      "1970-01-04   20.0\n",
      "1970-01-05   26.5\n",
      "1970-01-06   34.0\n"
     ]
    }
   ],
   "source": [
    "#time\n",
    "df['time'] = pd.to_datetime(df['time'], unit='D')  #(unit='D' means \"treat these numbers as days since 1970-01-01\")\n",
    "df.set_index('time', inplace=True)#Now time becomes the row label (index).\n",
    "df['Value'] = df['Value'].interpolate(method='time')#\n",
    "\n",
    "print(df)"
   ]
  },
  {
   "cell_type": "markdown",
   "id": "55fcaf2a",
   "metadata": {},
   "source": [
    "## Sorting && Agrigation "
   ]
  },
  {
   "cell_type": "code",
   "execution_count": 73,
   "id": "1fc99643",
   "metadata": {},
   "outputs": [
    {
     "name": "stdout",
     "output_type": "stream",
     "text": [
      "before--------\n",
      "   Name  Age  salary\n",
      "0   Ram   28    5000\n",
      "1   sam   55  700000\n",
      "2  jadu   22    3000\n",
      "After-------\n",
      "   Name  Age  salary\n",
      "2  jadu   22    3000\n",
      "0   Ram   28    5000\n",
      "1   sam   55  700000\n"
     ]
    }
   ],
   "source": [
    "#sorting data\n",
    "#sorting data 1 column sort_values()\n",
    "#def.sort_values(by=\"column Name\",True/False,inplace=True)\n",
    "data={\n",
    "    \"Name\":['Ram','sam','jadu'],\n",
    "    \"Age\":[28,55,22],\n",
    "    \"salary\":[5000,700000,3000],\n",
    "}\n",
    "print(\"before--------\")\n",
    "df=pd.DataFrame(data)\n",
    "print(df)\n",
    "print(\"After-------\")\n",
    "\n",
    "df.sort_values(by=\"Age\", ascending=False,inplace=True) # high->low\n",
    "df.sort_values(by=\"Age\", ascending=True,inplace=True) # low->high\n",
    "print(df)\n"
   ]
  },
  {
   "cell_type": "code",
   "execution_count": 74,
   "id": "87d908c5",
   "metadata": {},
   "outputs": [
    {
     "name": "stdout",
     "output_type": "stream",
     "text": [
      "before--------\n",
      "   Name  Age  salary\n",
      "0   Ram   28    5000\n",
      "1   sam   55    7000\n",
      "2  jadu   22    3000\n",
      "After-------\n",
      "   Name  Age  salary\n",
      "2  jadu   22    3000\n",
      "0   Ram   28    5000\n",
      "1   sam   55    7000\n"
     ]
    }
   ],
   "source": [
    "#df.sort_values(by=[\"Age\",\"salary\"], ascending=True,inplace=True)\n",
    "data={\n",
    "    \"Name\":['Ram','sam','jadu'],\n",
    "    \"Age\":[28,55,22],\n",
    "    \"salary\":[5000,7000,3000],\n",
    "}\n",
    "print(\"before--------\")\n",
    "df=pd.DataFrame(data)\n",
    "print(df)\n",
    "print(\"After-------\")\n",
    "\n",
    "df.sort_values(by=[\"Age\", \"salary\"], ascending=[True, False], inplace=True)\n",
    "print(df)\n"
   ]
  },
  {
   "cell_type": "markdown",
   "id": "b1b4d679",
   "metadata": {},
   "source": [
    "# avg salary"
   ]
  },
  {
   "cell_type": "code",
   "execution_count": 75,
   "id": "4a3d6ae2",
   "metadata": {},
   "outputs": [
    {
     "name": "stdout",
     "output_type": "stream",
     "text": [
      "5000.0\n"
     ]
    }
   ],
   "source": [
    "avg_salary=df['salary'].mean()\n",
    "print(avg_salary)\n",
    "\n"
   ]
  },
  {
   "cell_type": "markdown",
   "id": "23409d64",
   "metadata": {},
   "source": [
    "## grouping"
   ]
  },
  {
   "cell_type": "code",
   "execution_count": 77,
   "id": "55fb71fa",
   "metadata": {},
   "outputs": [
    {
     "name": "stdout",
     "output_type": "stream",
     "text": [
      "before--------\n",
      "   Name  Age  salary\n",
      "0   Ram   28    5000\n",
      "1   sam   55    7000\n",
      "2  jadu   22    3000\n",
      "After-------\n",
      "Age\n",
      "22    3000\n",
      "28    5000\n",
      "55    7000\n",
      "Name: salary, dtype: int64\n"
     ]
    }
   ],
   "source": [
    "data={\n",
    "    \"Name\":['Ram','sam','jadu'],\n",
    "    \"Age\":[28,55,22],\n",
    "    \"salary\":[5000,7000,3000],\n",
    "}\n",
    "print(\"before--------\")\n",
    "df=pd.DataFrame(data)\n",
    "print(df)\n",
    "print(\"After-------\")\n",
    "group = df.groupby(\"Age\")[\"salary\"].sum()\n",
    "print(group)"
   ]
  }
 ],
 "metadata": {
  "kernelspec": {
   "display_name": "Python 3",
   "language": "python",
   "name": "python3"
  },
  "language_info": {
   "codemirror_mode": {
    "name": "ipython",
    "version": 3
   },
   "file_extension": ".py",
   "mimetype": "text/x-python",
   "name": "python",
   "nbconvert_exporter": "python",
   "pygments_lexer": "ipython3",
   "version": "3.12.1"
  }
 },
 "nbformat": 4,
 "nbformat_minor": 5
}
